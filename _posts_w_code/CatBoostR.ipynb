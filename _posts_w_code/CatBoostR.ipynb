{
 "cells": [
  {
   "cell_type": "markdown",
   "metadata": {},
   "source": [
    "## CatBoost vs (Random Forest & Gradient Boosting Machine) 비교\n",
    "* Data : Churn [>>Link](https://github.com/yhat/demo-churn-pred/blob/master/model/churn.csv)\n",
    "* Parameter : default, only seed = 1234\n",
    "* Check AUC, Logloss\n",
    "* Python과는 다르게, validation set을 지정해주는 parameter를 찾기 어려워, Train:Test = 7:3으로 지정"
   ]
  },
  {
   "cell_type": "markdown",
   "metadata": {},
   "source": [
    "#### 패키지 설치 (Window 10 기준)\n",
    "* 시도했던 방법\n",
    "    * devtools::install_github 이용해서 CatBoost 직접 설치.\n",
    "    * [CatBoost Github](https://github.com/catboost/catboost/)에서 clone으로 zip파일을 받아 설치\n",
    "    * devtools::install_url 이용해서 CatBoost 설치(binary install)  -- __유일하게 성공__"
   ]
  },
  {
   "cell_type": "code",
   "execution_count": 1,
   "metadata": {},
   "outputs": [
    {
     "name": "stderr",
     "output_type": "stream",
     "text": [
      "Installing package into 'C:/Users/hsw/Documents/R/win-library/3.4'\n",
      "(as 'lib' is unspecified)\n"
     ]
    },
    {
     "name": "stdout",
     "output_type": "stream",
     "text": [
      "package 'devtools' successfully unpacked and MD5 sums checked\n",
      "\n",
      "The downloaded binary packages are in\n",
      "\tC:\\Users\\hsw\\AppData\\Local\\Temp\\RtmpsNU66t\\downloaded_packages\n"
     ]
    },
    {
     "name": "stderr",
     "output_type": "stream",
     "text": [
      "Downloading package from url: https://github.com/catboost/catboost/releases/download/v0.8.1/catboost-R-Windows-0.8.1.tgz\n",
      "Installing catboost\n",
      "\"C:/Users/hsw/Anaconda3/envs/R/lib/R/bin/x64/R\" --no-site-file --no-environ  \\\n",
      "  --no-save --no-restore --quiet CMD INSTALL  \\\n",
      "  \"C:/Users/hsw/AppData/Local/Temp/RtmpsNU66t/devtools3aac517976c6/catboost\"  \\\n",
      "  --library=\"C:/Users/hsw/Documents/R/win-library/3.4\" --install-tests \n",
      "\n"
     ]
    }
   ],
   "source": [
    "install.packages(\"devtools\")\n",
    "devtools::install_url(\"https://github.com/catboost/catboost/releases/download/v0.8.1/catboost-R-Windows-0.8.1.tgz\")"
   ]
  },
  {
   "cell_type": "markdown",
   "metadata": {},
   "source": [
    "#### 현재 돌아가고 있는 R 정보 출력. (다른 컴퓨터에서 설치시 참고 바람)"
   ]
  },
  {
   "cell_type": "code",
   "execution_count": 32,
   "metadata": {},
   "outputs": [
    {
     "data": {
      "text/plain": [
       "R version 3.4.3 (2017-11-30)\n",
       "Platform: x86_64-w64-mingw32/x64 (64-bit)\n",
       "Running under: Windows 10 x64 (build 17134)\n",
       "\n",
       "Matrix products: default\n",
       "\n",
       "locale:\n",
       "[1] LC_COLLATE=Korean_Korea.949  LC_CTYPE=Korean_Korea.949   \n",
       "[3] LC_MONETARY=Korean_Korea.949 LC_NUMERIC=C                \n",
       "[5] LC_TIME=Korean_Korea.949    \n",
       "\n",
       "attached base packages:\n",
       "[1] stats     graphics  grDevices utils     datasets  methods   base     \n",
       "\n",
       "other attached packages:\n",
       "[1] h2o_3.19.0.4306      catboost_0.8.1       RevoUtils_10.0.8    \n",
       "[4] RevoUtilsMath_10.0.1\n",
       "\n",
       "loaded via a namespace (and not attached):\n",
       " [1] withr_2.1.1     digest_0.6.13   crayon_1.3.4    bitops_1.0-6   \n",
       " [5] IRdisplay_0.4.4 repr_0.12.0     R6_2.2.2        jsonlite_1.5   \n",
       " [9] magrittr_1.5    evaluate_0.10.1 httr_1.3.1      stringi_1.1.7  \n",
       "[13] curl_3.1        uuid_0.1-2      IRkernel_0.8.11 devtools_1.13.3\n",
       "[17] tools_3.4.3     stringr_1.3.1   RCurl_1.95-4.9  compiler_3.4.3 \n",
       "[21] memoise_1.1.0   pbdZMQ_0.2-6   "
      ]
     },
     "metadata": {},
     "output_type": "display_data"
    }
   ],
   "source": [
    "sessionInfo()"
   ]
  },
  {
   "cell_type": "markdown",
   "metadata": {},
   "source": [
    "#### CatBoost load"
   ]
  },
  {
   "cell_type": "code",
   "execution_count": 1,
   "metadata": {},
   "outputs": [],
   "source": [
    "library(catboost)"
   ]
  },
  {
   "cell_type": "markdown",
   "metadata": {},
   "source": [
    "#### data frame을 train, valid, test 셋으로 나누기 위해 함수 선언"
   ]
  },
  {
   "cell_type": "code",
   "execution_count": 2,
   "metadata": {},
   "outputs": [],
   "source": [
    "dt_splitFrame <- function(dt, ratio, seed){\n",
    "  set.seed(seed)\n",
    "  train_index <- sample(nrow(dt), as.integer(nrow(dt)*ratio[1]))\n",
    "  train <- dt[train_index, ]\n",
    "  valid_test <- dt[-train_index, ]\n",
    "  valid_index <- sample(nrow(valid_test), as.integer(nrow(train)/ratio[1]*ratio[2]))\n",
    "  valid <- valid_test[valid_index, ]\n",
    "  test <- valid_test[-valid_index, ]\n",
    "  rm(valid_test)\n",
    "  return(list(train, valid, test))\n",
    "}"
   ]
  },
  {
   "cell_type": "markdown",
   "metadata": {},
   "source": [
    "#### 데이터 로드"
   ]
  },
  {
   "cell_type": "code",
   "execution_count": 3,
   "metadata": {},
   "outputs": [],
   "source": [
    "churn <- read.csv(\"../data/churn.csv\")"
   ]
  },
  {
   "cell_type": "markdown",
   "metadata": {},
   "source": [
    "#### Target을 0,1로 바꾸어주어야 돌아감"
   ]
  },
  {
   "cell_type": "code",
   "execution_count": 4,
   "metadata": {},
   "outputs": [],
   "source": [
    "churn[,20] <- ifelse(churn[,20] == \"True.\", 1, 0)"
   ]
  },
  {
   "cell_type": "markdown",
   "metadata": {},
   "source": [
    "#### categorical 변수를 전부 factor로 변환해주어야 함"
   ]
  },
  {
   "cell_type": "code",
   "execution_count": 5,
   "metadata": {},
   "outputs": [],
   "source": [
    "cat_features <- c(1,4,5)\n",
    "for(i in cat_features){\n",
    "  churn[,i] <- as.factor(churn[,i])\n",
    "}"
   ]
  },
  {
   "cell_type": "markdown",
   "metadata": {},
   "source": [
    "#### Train:Valid:Test = 6:2:2"
   ]
  },
  {
   "cell_type": "code",
   "execution_count": 6,
   "metadata": {},
   "outputs": [
    {
     "name": "stdout",
     "output_type": "stream",
     "text": [
      "[1] \"Train : 2333\"\n",
      "[1] \"Test : 1000\"\n"
     ]
    }
   ],
   "source": [
    "splits <- dt_splitFrame(dt = churn, ratio = c(0.7, 0.3), seed = 1234)\n",
    "train <- splits[[1]]\n",
    "valid <- splits[[2]]\n",
    "test <- splits[[3]]\n",
    "test <- rbind(valid, test)\n",
    "print(paste(\"Train : \", nrow(train), sep = \"\"))\n",
    "print(paste(\"Test : \", nrow(test), sep = \"\"))"
   ]
  },
  {
   "cell_type": "markdown",
   "metadata": {},
   "source": [
    "#### Target index 지정. (\"Churn.\")"
   ]
  },
  {
   "cell_type": "code",
   "execution_count": 7,
   "metadata": {},
   "outputs": [
    {
     "data": {
      "text/html": [
       "20"
      ],
      "text/latex": [
       "20"
      ],
      "text/markdown": [
       "20"
      ],
      "text/plain": [
       "[1] 20"
      ]
     },
     "metadata": {},
     "output_type": "display_data"
    }
   ],
   "source": [
    "target_idx <- grep(\"Churn.\", colnames(churn))\n",
    "target_idx"
   ]
  },
  {
   "cell_type": "markdown",
   "metadata": {},
   "source": [
    "#### CatBoost를 돌리기 위해 Pool형태로 변환. 이 때 categorical 변수가 있는 index 위치들을 cat_features로 명명"
   ]
  },
  {
   "cell_type": "code",
   "execution_count": 8,
   "metadata": {},
   "outputs": [],
   "source": [
    "train_pool <- catboost.load_pool(data = train[,-target_idx], label = train[,target_idx], cat_features = cat_features)\n",
    "test_pool <- catboost.load_pool(data = test[,-target_idx], label = test[,target_idx], cat_features = cat_features)"
   ]
  },
  {
   "cell_type": "markdown",
   "metadata": {},
   "source": [
    "#### Parameter 설명\n",
    "* loss_function : loss function 지정(여기서는 분류모형이므로 Logloss)\n",
    "* logging_level : 모델링을 돌릴 때 매 iteration 마다 결과를 출력할건지\n",
    "    * Silent : 출력하지 않겠다.\n",
    "    * Verbose : 출력하겠다.\n",
    "    * 자세한 사항은 [홈페이지 설명](https://tech.yandex.com/catboost/doc/dg/concepts/r-reference_catboost-train-docpage/) 참고\n",
    "* random_seed : seed number\n",
    "* custom_loss : 모델링 할 때 추가로 추출할 값들 (train_dir로 지정한 곳으로 해당 결과를 파일로 내보내준다)\n",
    "* train_dir : 모델링 한 결과를 저장할 directory"
   ]
  },
  {
   "cell_type": "code",
   "execution_count": 11,
   "metadata": {},
   "outputs": [
    {
     "name": "stdout",
     "output_type": "stream",
     "text": [
      "[1] \"Time : 29.7614259719849\"\n"
     ]
    }
   ],
   "source": [
    "start.time <- Sys.time()\n",
    "fit_params <- list(\n",
    "                   loss_function = 'Logloss',\n",
    "                   logging_level = \"Silent\",\n",
    "                   random_seed = 1234,\n",
    "                   custom_loss = \"AUC\",\n",
    "                   train_dir = \"../data/CatBoost_R_output\"\n",
    "                   )\n",
    "model <- catboost.train(learn_pool = train_pool, test_pool = test_pool, params = fit_params)\n",
    "print(paste(\"Time : \", Sys.time() - start.time, sep = \"\"))"
   ]
  },
  {
   "cell_type": "markdown",
   "metadata": {},
   "source": [
    "#### 위에서 지정한 directory에서 \"test_error.tsv\" 파일 호출\n",
    "* 해당 파일에는 다음 정보가 입력돼 있다.\n",
    "    * iteration\n",
    "    * Logloss\n",
    "    * AUC"
   ]
  },
  {
   "cell_type": "code",
   "execution_count": 12,
   "metadata": {},
   "outputs": [],
   "source": [
    "test_error <- read.table(\"../data/CatBoost_R_output/test_error.tsv\", sep = \"\\t\", header = TRUE)"
   ]
  },
  {
   "cell_type": "markdown",
   "metadata": {},
   "source": [
    "#### 마지막 iteration 정보를 가져오기 위해.\n",
    "* Logloss : 0.1565074\n",
    "* AUC : 0.9258676"
   ]
  },
  {
   "cell_type": "code",
   "execution_count": 13,
   "metadata": {},
   "outputs": [
    {
     "data": {
      "text/html": [
       "<table>\n",
       "<thead><tr><th></th><th scope=col>iter</th><th scope=col>Logloss</th><th scope=col>AUC</th></tr></thead>\n",
       "<tbody>\n",
       "\t<tr><th scope=row>995</th><td>994      </td><td>0.1563895</td><td>0.9259737</td></tr>\n",
       "\t<tr><th scope=row>996</th><td>995      </td><td>0.1563093</td><td>0.9261042</td></tr>\n",
       "\t<tr><th scope=row>997</th><td>996      </td><td>0.1563762</td><td>0.9259655</td></tr>\n",
       "\t<tr><th scope=row>998</th><td>997      </td><td>0.1564997</td><td>0.9258268</td></tr>\n",
       "\t<tr><th scope=row>999</th><td>998      </td><td>0.1565012</td><td>0.9258758</td></tr>\n",
       "\t<tr><th scope=row>1000</th><td>999      </td><td>0.1565074</td><td>0.9258676</td></tr>\n",
       "</tbody>\n",
       "</table>\n"
      ],
      "text/latex": [
       "\\begin{tabular}{r|lll}\n",
       "  & iter & Logloss & AUC\\\\\n",
       "\\hline\n",
       "\t995 & 994       & 0.1563895 & 0.9259737\\\\\n",
       "\t996 & 995       & 0.1563093 & 0.9261042\\\\\n",
       "\t997 & 996       & 0.1563762 & 0.9259655\\\\\n",
       "\t998 & 997       & 0.1564997 & 0.9258268\\\\\n",
       "\t999 & 998       & 0.1565012 & 0.9258758\\\\\n",
       "\t1000 & 999       & 0.1565074 & 0.9258676\\\\\n",
       "\\end{tabular}\n"
      ],
      "text/markdown": [
       "\n",
       "| <!--/--> | iter | Logloss | AUC | \n",
       "|---|---|---|---|---|---|\n",
       "| 995 | 994       | 0.1563895 | 0.9259737 | \n",
       "| 996 | 995       | 0.1563093 | 0.9261042 | \n",
       "| 997 | 996       | 0.1563762 | 0.9259655 | \n",
       "| 998 | 997       | 0.1564997 | 0.9258268 | \n",
       "| 999 | 998       | 0.1565012 | 0.9258758 | \n",
       "| 1000 | 999       | 0.1565074 | 0.9258676 | \n",
       "\n",
       "\n"
      ],
      "text/plain": [
       "     iter Logloss   AUC      \n",
       "995  994  0.1563895 0.9259737\n",
       "996  995  0.1563093 0.9261042\n",
       "997  996  0.1563762 0.9259655\n",
       "998  997  0.1564997 0.9258268\n",
       "999  998  0.1565012 0.9258758\n",
       "1000 999  0.1565074 0.9258676"
      ]
     },
     "metadata": {},
     "output_type": "display_data"
    }
   ],
   "source": [
    "tail(test_error)"
   ]
  },
  {
   "cell_type": "markdown",
   "metadata": {},
   "source": [
    "#### h2o load. 오류는 Anaconda에서 제공하는 h2o version과 R version이 잘 안맞아서 나오는데, 무시해도 모델링에 지장 없다."
   ]
  },
  {
   "cell_type": "code",
   "execution_count": 14,
   "metadata": {},
   "outputs": [
    {
     "name": "stderr",
     "output_type": "stream",
     "text": [
      "\n",
      "----------------------------------------------------------------------\n",
      "\n",
      "Your next step is to start H2O:\n",
      "    > h2o.init()\n",
      "\n",
      "For H2O package documentation, ask for help:\n",
      "    > ??h2o\n",
      "\n",
      "After starting H2O, you can use the Web UI at http://localhost:54321\n",
      "For more information visit http://docs.h2o.ai\n",
      "\n",
      "----------------------------------------------------------------------\n",
      "\n",
      "\n",
      "Attaching package: 'h2o'\n",
      "\n",
      "The following objects are masked from 'package:stats':\n",
      "\n",
      "    cor, sd, var\n",
      "\n",
      "The following objects are masked from 'package:base':\n",
      "\n",
      "    %*%, %in%, &&, ||, apply, as.factor, as.numeric, colnames,\n",
      "    colnames<-, ifelse, is.character, is.factor, is.numeric, log,\n",
      "    log10, log1p, log2, round, signif, trunc\n",
      "\n"
     ]
    },
    {
     "name": "stdout",
     "output_type": "stream",
     "text": [
      " Connection successful!\n",
      "\n",
      "R is connected to the H2O cluster: \n",
      "    H2O cluster uptime:         1 hours 58 minutes \n",
      "    H2O cluster timezone:       \n",
      "    H2O data parsing timezone:  \n",
      "    H2O cluster version:        3.16.0.2 \n",
      "    H2O cluster version age:    6 months and 15 days !!! \n",
      "    H2O cluster name:           H2O_started_from_R_hsw_gge519 \n",
      "    H2O cluster total nodes:    1 \n",
      "    H2O cluster total memory:   6.91 GB \n",
      "    H2O cluster total cores:    4 \n",
      "    H2O cluster allowed cores:  4 \n",
      "    H2O cluster healthy:        TRUE \n",
      "    H2O Connection ip:          localhost \n",
      "    H2O Connection port:        54321 \n",
      "    H2O Connection proxy:       NA \n",
      "    H2O Internal Security:      FALSE \n",
      "    H2O API Extensions:         Algos, AutoML, Core V3, Core V4 \n",
      "    R Version:                  R version 3.4.3 (2017-11-30) \n"
     ]
    },
    {
     "name": "stderr",
     "output_type": "stream",
     "text": [
      "Warning message in h2o.clusterInfo():\n",
      "\"\n",
      "Your H2O cluster version is too old (6 months and 15 days)!\n",
      "Please download and install the latest version from http://h2o.ai/download/\""
     ]
    },
    {
     "name": "stdout",
     "output_type": "stream",
     "text": [
      "\n"
     ]
    },
    {
     "ename": "ERROR",
     "evalue": "Error in h2o.init(): Version mismatch! H2O is running version 3.16.0.2 but h2o-R package is version 3.19.0.4306.\n         Install the matching h2o-R version from - http://h2o-release.s3.amazonaws.com/h2o/rel-wheeler/2/index.html\n",
     "output_type": "error",
     "traceback": [
      "Error in h2o.init(): Version mismatch! H2O is running version 3.16.0.2 but h2o-R package is version 3.19.0.4306.\n         Install the matching h2o-R version from - http://h2o-release.s3.amazonaws.com/h2o/rel-wheeler/2/index.html\nTraceback:\n",
      "1. h2o.init()",
      "2. stop(sprintf(\"Version mismatch! H2O is running version %s but h2o-R package is version %s.\\n         Install the matching h2o-R version from - http://h2o-release.s3.amazonaws.com/h2o/%s/%s/index.html\", \n .     verH2O, toString(verPkg), branch_name_H2O, build_number_H2O))"
     ]
    }
   ],
   "source": [
    "library(h2o)\n",
    "h2o.init()"
   ]
  },
  {
   "cell_type": "markdown",
   "metadata": {},
   "source": [
    "#### categorical 변수의 index 지정 후 factor 변환"
   ]
  },
  {
   "cell_type": "code",
   "execution_count": 15,
   "metadata": {},
   "outputs": [
    {
     "name": "stdout",
     "output_type": "stream",
     "text": [
      "  |======================================================================| 100%\n"
     ]
    }
   ],
   "source": [
    "cat_features <- c(1,4,5,20)\n",
    "\n",
    "churn_hex <- as.h2o(churn)\n",
    "\n",
    "for(i in cat_features){\n",
    "  churn_hex[,i] <- as.factor(churn_hex[,i])\n",
    "}"
   ]
  },
  {
   "cell_type": "markdown",
   "metadata": {},
   "source": [
    "#### Data split. (Train:Test = 7:3)"
   ]
  },
  {
   "cell_type": "code",
   "execution_count": 16,
   "metadata": {},
   "outputs": [],
   "source": [
    "splits_hex <- h2o.splitFrame(\n",
    "  churn_hex,          \n",
    "  c(0.7),   \n",
    "  seed=1234) "
   ]
  },
  {
   "cell_type": "code",
   "execution_count": 17,
   "metadata": {
    "scrolled": true
   },
   "outputs": [],
   "source": [
    "train.hex <- h2o.assign(splits_hex[[1]], \"train.hex\")   \n",
    "test.hex <- h2o.assign(splits_hex[[2]], \"test.hex\")     "
   ]
  },
  {
   "cell_type": "markdown",
   "metadata": {},
   "source": [
    "#### Random Forest 모델링 실시. (parameter default)\n",
    "* 후에 test 데이터 기준으로 AUC 값, Logloss 값 추출"
   ]
  },
  {
   "cell_type": "code",
   "execution_count": 18,
   "metadata": {},
   "outputs": [
    {
     "name": "stdout",
     "output_type": "stream",
     "text": [
      "  |======================================================================| 100%\n"
     ]
    },
    {
     "data": {
      "text/plain": [
       "H2OBinomialMetrics: drf\n",
       "\n",
       "MSE:  0.05451486\n",
       "RMSE:  0.2334842\n",
       "LogLoss:  0.3607438\n",
       "Mean Per-Class Error:  0.1195295\n",
       "AUC:  0.9170754\n",
       "Gini:  0.8341508\n",
       "\n",
       "Confusion Matrix (vertical: actual; across: predicted) for F1-optimal threshold:\n",
       "         0   1    Error     Rate\n",
       "0      821  20 0.023781  =20/841\n",
       "1       31 113 0.215278  =31/144\n",
       "Totals 852 133 0.051777  =51/985\n",
       "\n",
       "Maximum Metrics: Maximum metrics at their respective thresholds\n",
       "                        metric threshold    value idx\n",
       "1                       max f1  0.360000 0.815884  29\n",
       "2                       max f2  0.300000 0.818554  33\n",
       "3                 max f0point5  0.480000 0.858209  23\n",
       "4                 max accuracy  0.380000 0.948223  28\n",
       "5                max precision  1.000000 1.000000   0\n",
       "6                   max recall  0.000000 1.000000  66\n",
       "7              max specificity  1.000000 1.000000   0\n",
       "8             max absolute_mcc  0.360000 0.786656  29\n",
       "9   max min_per_class_accuracy  0.160000 0.868056  40\n",
       "10 max mean_per_class_accuracy  0.300000 0.894669  33\n",
       "\n",
       "Gains/Lift Table: Extract with `h2o.gainsLift(<model>, <data>)` or `h2o.gainsLift(<model>, valid=<T/F>, xval=<T/F>)`"
      ]
     },
     "metadata": {},
     "output_type": "display_data"
    },
    {
     "name": "stdout",
     "output_type": "stream",
     "text": [
      "[1] \"Time : 1.57041788101196\"\n"
     ]
    }
   ],
   "source": [
    "start.time <- Sys.time()\n",
    "ml_rf <- h2o.randomForest(         ## h2o.randomForest function\n",
    "  training_frame = train.hex,        ## the H2O frame for training\n",
    "  x=1:19,                        ## the predictor columns, by column index\n",
    "  y=20,  \n",
    "  seed = 1234)               \n",
    "\n",
    "h2o.performance(ml_rf, newdata = test.hex)\n",
    "print(paste(\"Time : \", Sys.time() - start.time, sep = \"\"))"
   ]
  },
  {
   "cell_type": "markdown",
   "metadata": {},
   "source": [
    "#### GBM 모델링 실시. (parameter default)\n",
    "* 후에 test 데이터 기준으로 AUC 값, Logloss 값 추출"
   ]
  },
  {
   "cell_type": "code",
   "execution_count": 19,
   "metadata": {},
   "outputs": [
    {
     "name": "stdout",
     "output_type": "stream",
     "text": [
      "  |======================================================================| 100%\n"
     ]
    },
    {
     "data": {
      "text/plain": [
       "H2OBinomialMetrics: gbm\n",
       "\n",
       "MSE:  0.05007391\n",
       "RMSE:  0.223772\n",
       "LogLoss:  0.1930566\n",
       "Mean Per-Class Error:  0.1386742\n",
       "AUC:  0.9159978\n",
       "Gini:  0.8319956\n",
       "\n",
       "Confusion Matrix (vertical: actual; across: predicted) for F1-optimal threshold:\n",
       "         0   1    Error     Rate\n",
       "0      818  23 0.027348  =23/841\n",
       "1       36 108 0.250000  =36/144\n",
       "Totals 854 131 0.059898  =59/985\n",
       "\n",
       "Maximum Metrics: Maximum metrics at their respective thresholds\n",
       "                        metric threshold    value idx\n",
       "1                       max f1  0.219443 0.785455 115\n",
       "2                       max f2  0.151270 0.784044 133\n",
       "3                 max f0point5  0.437263 0.857143  92\n",
       "4                 max accuracy  0.399330 0.944162  95\n",
       "5                max precision  0.986585 1.000000   0\n",
       "6                   max recall  0.004118 1.000000 396\n",
       "7              max specificity  0.986585 1.000000   0\n",
       "8             max absolute_mcc  0.364223 0.760869  97\n",
       "9   max min_per_class_accuracy  0.068371 0.854167 203\n",
       "10 max mean_per_class_accuracy  0.151270 0.873836 133\n",
       "\n",
       "Gains/Lift Table: Extract with `h2o.gainsLift(<model>, <data>)` or `h2o.gainsLift(<model>, valid=<T/F>, xval=<T/F>)`"
      ]
     },
     "metadata": {},
     "output_type": "display_data"
    },
    {
     "name": "stdout",
     "output_type": "stream",
     "text": [
      "[1] \"Time : 1.69335508346558\"\n"
     ]
    }
   ],
   "source": [
    "start.time <- Sys.time()\n",
    "ml_gbm <- h2o.gbm(         \n",
    "  training_frame = train.hex,        \n",
    "  x=1:19,                        \n",
    "  y=20,  \n",
    "  seed = 1234)               \n",
    "\n",
    "h2o.performance(ml_gbm, newdata = test.hex)\n",
    "print(paste(\"Time : \", Sys.time() - start.time, sep = \"\"))"
   ]
  },
  {
   "cell_type": "markdown",
   "metadata": {},
   "source": [
    "### CatBoost vs Random Forest vs GBM 비교. (parameter default 기준)"
   ]
  },
  {
   "cell_type": "markdown",
   "metadata": {},
   "source": [
    "|           | CatBoost | Random Forest | GBM    |\n",
    "| --------- | -------- | ------------- | ------ |\n",
    "| Time(sec) | 29.73    | 1.57          | 1.69   |\n",
    "| AUC       | 0.9259   | 0.9170        | 0.9160 |\n",
    "| Logloss   | 0.1565   | 0.3607        | 0.1931 |"
   ]
  },
  {
   "cell_type": "code",
   "execution_count": null,
   "metadata": {},
   "outputs": [],
   "source": []
  }
 ],
 "metadata": {
  "kernelspec": {
   "display_name": "R",
   "language": "R",
   "name": "ir"
  },
  "language_info": {
   "codemirror_mode": "r",
   "file_extension": ".r",
   "mimetype": "text/x-r-source",
   "name": "R",
   "pygments_lexer": "r",
   "version": "3.4.3"
  }
 },
 "nbformat": 4,
 "nbformat_minor": 2
}
